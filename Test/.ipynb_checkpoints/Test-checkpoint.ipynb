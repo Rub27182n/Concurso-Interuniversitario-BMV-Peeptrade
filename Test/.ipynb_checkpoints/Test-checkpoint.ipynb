{
 "cells": [
  {
   "cell_type": "markdown",
   "id": "77164964",
   "metadata": {},
   "source": [
    "<img src=\"http://oci02.img.iteso.mx/identidad_de_instancia_2018/ITESO/Logos%20ITESO/Logo-ITESO-Principal.jpg\" width=\"800px\" height=\"400px\"/>"
   ]
  },
  {
   "cell_type": "markdown",
   "id": "0b5ea0b6",
   "metadata": {},
   "source": [
    "# <font color='midnightblue'> <center> Concurso Interuniversitario BMV-Peeptrade </center>"
   ]
  },
  {
   "cell_type": "markdown",
   "id": "df4f68bf",
   "metadata": {},
   "source": [
    "# <font color='midnightblue'> **Integrantes:**\n",
    "\n",
    "<font color='midnightblue'> **Rubén Hernández Guevara | if717710**\n",
    "    \n",
    "<font color='midnightblue'> **Juan Pablo Rodríguez Alonso | if715180**\n",
    "    \n",
    "<font color='midnightblue'> **Andrés Ramírez Villanueva | if726061**"
   ]
  },
  {
   "cell_type": "code",
   "execution_count": 1,
   "id": "841f1e4f",
   "metadata": {},
   "outputs": [],
   "source": [
    "import matplotlib\n",
    "import numpy as np\n",
    "import pandas as pd\n",
    "import scipy.stats as stats\n",
    "import plotly.express as px\n",
    "import scipy.optimize as opt\n",
    "import plotly.graph_objs as go\n",
    "import matplotlib.pyplot as plt\n",
    "from scipy.optimize import minimize\n",
    "import pandas_datareader.data as web\n",
    "from plotly.subplots import make_subplots\n",
    "from pandas_datareader import data as pdr\n",
    "import yfinance as yfin\n",
    "yfin.pdr_override()"
   ]
  },
  {
   "cell_type": "code",
   "execution_count": 2,
   "id": "e1336745",
   "metadata": {},
   "outputs": [],
   "source": [
    "def simulacion_pfolios(ret: 'Retornos',\n",
    "                       rf: 'Tasa Libre de Riesgo',\n",
    "                       tickers: 'Ticker de los activos'):\n",
    "    \n",
    "    global pesos, w_EMV, w_opt, E_EMV, s_EMV, summary, S, Sigma, Eind, cov\n",
    "        \n",
    "    #Rendimientos y volatilidades esperadas\n",
    "    summary = pd.DataFrame(data={'Media': ret.mean(),\n",
    "                                 'Vol':ret.std()})\n",
    "        \n",
    "    cov_ret = ret.cov() # Matriz de varianza - covarianza\n",
    "    \n",
    "    corr = ret.corr() # Matriz de correlación\n",
    "    \n",
    "    S = np.diag(summary['Vol'].values)\n",
    "    Sigma = S.dot(corr).dot(S)\n",
    "    Eind = summary['Media'].values\n",
    "    \n",
    "    n = len(Eind) # Número de activos    \n",
    "    w0 = np.ones((n,))/n # Dato inicial   \n",
    "    bnds = ((0, .08),)*n # Cotas de las variables    \n",
    "    cons={'type':'eq','fun':lambda w:w.sum()-1} # Restricciones\n",
    "    \n",
    "    # Portafolio EMV\n",
    "    EMV = minimize(fun = menos_RS,\n",
    "                   x0 = w0,\n",
    "                   args = (Eind, Sigma, rf),\n",
    "                   bounds = bnds,\n",
    "                   constraints = cons,\n",
    "                   tol = 1e-5)\n",
    "    w_EMV = EMV.x\n",
    "    w_EMV = np.round(w_EMV,4)\n",
    "    \n",
    "    # Pesos, rendimiento y riesgo del portafolio EMV\n",
    "    E_EMV = Eind.T.dot(w_EMV)\n",
    "    s_EMV = (w_EMV.T.dot(Sigma).dot(w_EMV))**0.5\n",
    "    RS_EMV = (E_EMV - rf)/s_EMV\n",
    "    \n",
    "    summary['w'] = np.round(w_EMV,4)\n",
    "    \n",
    "    pfolio = pd.DataFrame({'E_EMV': [E_EMV],\n",
    "                           'Volatilidad': [s_EMV],\n",
    "                           'Sharpe Ratio': [RS_EMV]})\n",
    "    \n",
    "    return summary, pfolio"
   ]
  },
  {
   "cell_type": "code",
   "execution_count": 3,
   "id": "f979898f",
   "metadata": {},
   "outputs": [],
   "source": [
    "def simulacion_inversion(inversion: 'Dinero Invertido',\n",
    "                         precios: 'Precios del Portafolio',\n",
    "                         pesos: 'Pesos de Activos en Portafolio',\n",
    "                         retornos: 'Retornos del Portafolio'):\n",
    "    \n",
    "    global inv_real, inv_teor, asignacion_activos, asignacion_rf, vfinal_activos, vfinal_rf, vfinal_pfolio,\\\n",
    "    rnd_activos, rnd_rf, rnd_pfolio, cumrets, Resultados\n",
    "    \n",
    "    asignacion_activos = np.sum(pesos[0:15])*inversion\n",
    "    asignacion_rf = inversion - asignacion_activos\n",
    "    \n",
    "    inv_teor = [pesos[i]*inversion for i in range(15)] # Inversión Teórica de Acuerdo a las Ponderaciones. \n",
    "    \n",
    "    vi_acciones = [precios.iloc[0].values[i] for i in range(15)] # Valor Inicial Real de las Acciones Al Momento de la Inversión.\n",
    "    \n",
    "    # Número de acciones a comprar\n",
    "    n_acciones = [(inv_teor[i]/vi_acciones[i]) for i in range(15)]\n",
    "    n_acciones = np.round(n_acciones) \n",
    "    \n",
    "    inv_real = [n_acciones[i]*vi_acciones[i] for i in range(15)] # Inversión real, de acuerdo a n acciones y precio inicial\n",
    "    \n",
    "    restante_inv_rf = [inv_teor[i]-inv_real[i] for i in range(15)]\n",
    "    restante_inv_rf = np.sum(restante_inv_rf)\n",
    "    asignacion_rf += restante_inv_rf\n",
    "    \n",
    "    \n",
    "    cumrets = pd.DataFrame(data = {'Date': retornos['Date'],\n",
    "                               'VNQ': (retornos['VNQ'] + 1).cumprod()*(inv_real[0]),\n",
    "                               'VBK': (retornos['VBK'] + 1).cumprod()*(inv_real[1]),\n",
    "                               'SPY': (retornos['SPY'] + 1).cumprod()*(inv_real[2]),\n",
    "                               'VTI': (retornos['VTI'] + 1).cumprod()*(inv_real[3]),\n",
    "                               'VGT': (retornos['VGT'] + 1).cumprod()*(inv_real[4]),\n",
    "                               'IBM': (retornos['IBM'] + 1).cumprod()*(inv_real[5]),\n",
    "                               'AAL': (retornos['AAL'] + 1).cumprod()*(inv_real[6]),\n",
    "                               'NVDA': (retornos['NVDA'] + 1).cumprod()*(inv_real[7]),\n",
    "                               'PFE': (retornos['PFE'] + 1).cumprod()*(inv_real[8]),\n",
    "                               'MSFT': (retornos['MSFT'] + 1).cumprod()*(inv_real[9]),\n",
    "                               'AAPL': (retornos['AAPL'] + 1).cumprod()*(inv_real[10]),\n",
    "                               'VWAGY': (retornos['VWAGY'] + 1).cumprod()*(inv_real[11]),\n",
    "                               'NFLX': (retornos['NFLX'] + 1).cumprod()*(inv_real[12]),\n",
    "                               'MA': (retornos['MA'] + 1).cumprod()*(inv_real[13]),\n",
    "                               'KO': (retornos['KO'] + 1).cumprod()*(inv_real[14])})\n",
    "\n",
    "    \n",
    "    fig = px.line(cumrets, x = \"Date\", y = cumrets.columns,\n",
    "              hover_data = {\"Date\": \"|%B %d, %Y\"},\n",
    "              title = 'Evolución del Portafolio')\n",
    "    fig.update_xaxes(\n",
    "        dtick = \"M1\",\n",
    "        tickformat=\"%b\\n%Y\")\n",
    "    fig.show()\n",
    "    \n",
    "    # Valor Final de Inversión \n",
    "    vfinal_activos = np.sum(cumrets.tail(1).values[0][1:])\n",
    "    vfinal_rf = asignacion_rf*(1+rf)   \n",
    "    vfinal_pfolio = vfinal_activos + vfinal_rf\n",
    "\n",
    "    # RETORNO DE ACCIONES %\n",
    "    rnd_activos = pct_chng(vfinal_activos, np.sum(inv_real))\n",
    "    rnd_rf = pct_chng(vfinal_rf, asignacion_rf)\n",
    "    rnd_pfolio = pct_chng(vfinal_pfolio, inversion)\n",
    "    \n",
    "    Resultados = pd.DataFrame(columns=['Tipo', 'Inversión Inicial', 'Valor Final', 'Rendimiento %'])\n",
    "    \n",
    "    Resultados['Tipo'] = ['Activos','Tasa', 'Portafolio']\n",
    "    Resultados['Inversión Inicial'] = [np.sum(inv_real), asignacion_rf, inversion]\n",
    "    Resultados['Valor Final'] = [vfinal_activos, vfinal_rf, vfinal_pfolio]\n",
    "    Resultados['Rendimiento %'] = [rnd_activos, rnd_rf, rnd_pfolio]\n",
    "    \n",
    "    return np.round(Resultados, 4)\n",
    "\n",
    "    inv_real, asignacion_rf, vfinal_activos, vfinal_rf, vfinal_pfolio, rnd_activos, rnd_rf, rnd_pfolio, cumrets = None"
   ]
  },
  {
   "cell_type": "code",
   "execution_count": 4,
   "id": "cbe605ab",
   "metadata": {},
   "outputs": [],
   "source": [
    "# Cambiar estilo de gráficos a seaborn\n",
    "matplotlib.style.use('seaborn')\n",
    "\n",
    "# Cambiar motor gráfico a PLOTLY\n",
    "pd.options.plotting.backend = \"plotly\""
   ]
  },
  {
   "cell_type": "code",
   "execution_count": 5,
   "id": "9e06711e",
   "metadata": {},
   "outputs": [],
   "source": [
    "# Función para descargar precios de cierre ajustados:\n",
    "def get_adj_closes(tickers, start_date = None, end_date = None, freq = None):\n",
    "    closes = web.YahooDailyReader(symbols = tickers,\n",
    "                                  start = start_date,\n",
    "                                  end = end_date,\n",
    "                                  interval = freq).read()['Adj Close']\n",
    "    return closes"
   ]
  },
  {
   "cell_type": "code",
   "execution_count": 6,
   "id": "eaca2d95",
   "metadata": {},
   "outputs": [],
   "source": [
    "def get_prices(tickers, start_date = None, end_date = None, period = '1d'):\n",
    "    prices = pdr.get_data_yahoo(tickers, \n",
    "                                start_date, \n",
    "                                end_date, \n",
    "                                period)['Adj Close']\n",
    "\n",
    "    return prices"
   ]
  },
  {
   "cell_type": "code",
   "execution_count": 7,
   "id": "bf11807c",
   "metadata": {},
   "outputs": [],
   "source": [
    "# Función objetivo\n",
    "def varianza(w,Sigma):\n",
    "    return w.T.dot(Sigma).dot(w) "
   ]
  },
  {
   "cell_type": "code",
   "execution_count": 8,
   "id": "3208d6cb",
   "metadata": {},
   "outputs": [],
   "source": [
    "# Función objetivo\n",
    "def menos_RS(w,Eind,Sigma,rf):\n",
    "    Ep = Eind.T.dot(w)\n",
    "    sp = (w.T.dot(Sigma).dot(w))**.5\n",
    "    RS = (Ep-rf)/sp\n",
    "    return -RS"
   ]
  },
  {
   "cell_type": "code",
   "execution_count": 9,
   "id": "6b6339cb",
   "metadata": {},
   "outputs": [],
   "source": [
    "# Función Cambio Porcentual\n",
    "def pct_chng(VA: 'Valor Actual',\n",
    "             VI: 'Valor Inicial'):  \n",
    "    ret = np.round(((VA-VI)/VI), 2)\n",
    "    return ret"
   ]
  },
  {
   "cell_type": "markdown",
   "id": "cf0ac483",
   "metadata": {},
   "source": [
    "# Portafolio"
   ]
  },
  {
   "cell_type": "code",
   "execution_count": 10,
   "id": "007e5f91",
   "metadata": {},
   "outputs": [],
   "source": [
    "rf = .0544/91"
   ]
  },
  {
   "cell_type": "code",
   "execution_count": 11,
   "id": "3e25ad73",
   "metadata": {},
   "outputs": [],
   "source": [
    "II = 100_000"
   ]
  },
  {
   "cell_type": "code",
   "execution_count": 12,
   "id": "8f485bf3",
   "metadata": {},
   "outputs": [],
   "source": [
    "watchlist = ['VNQ','VBK','VTI','VGT','IBM','AAL','NVDA','PFE','MSFT',\n",
    "             'AAPL','VWAGY','NFLX','MA','KO','RCL','CDEV','DIS','INO',\n",
    "             'ZM','VOO','UTF','TSM','PLTR','MRNA','GTHX','FDX','CCL',\n",
    "             'ABNB','AMD','VUG','VGLT','VHT','FSLR','VTIP','WNS','NIO']"
   ]
  },
  {
   "cell_type": "code",
   "execution_count": 13,
   "id": "2c138eb1",
   "metadata": {},
   "outputs": [],
   "source": [
    "# Cantidad de acciones compradas\n",
    "Q = [30, 60, 5, 10, 20, 6, 50, 30, 10, 80, 3, 20, 200, 2, 10, 20, 17]"
   ]
  },
  {
   "cell_type": "code",
   "execution_count": 14,
   "id": "82cbd9cd",
   "metadata": {},
   "outputs": [],
   "source": [
    "# Precio promedio de compra inicial de cada acción\n",
    "pprice = [120, 56.32, 345.19, 332.1, 45.31, 424.18, 52.05, 90.13, 281.36, 41.52, 262.14, 169.81, 28.55, 22.83, 125.89, 315.27, 236.73]"
   ]
  },
  {
   "cell_type": "code",
   "execution_count": 15,
   "id": "ae5db3d8",
   "metadata": {},
   "outputs": [],
   "source": [
    "# Activos en el portafolio\n",
    "pfolio_assets = 'FSLR KO MRNA MSFT PFE VOO VTIP WNS ZM NIO NVDA DIS UTF CCL AMD VUG FDX'\n",
    "pfolio_assets = pfolio_assets.split(' ')"
   ]
  },
  {
   "cell_type": "markdown",
   "id": "65e93bfa",
   "metadata": {},
   "source": [
    "### Simulación Portafolio"
   ]
  },
  {
   "cell_type": "code",
   "execution_count": 16,
   "id": "d26d6339",
   "metadata": {},
   "outputs": [],
   "source": [
    "start = \"2021-11-01\"\n",
    "end = \"2021-11-03\"\n",
    "freq = \"d\""
   ]
  },
  {
   "cell_type": "code",
   "execution_count": 17,
   "id": "abfa76f3",
   "metadata": {},
   "outputs": [],
   "source": [
    "prices = get_adj_closes(pfolio_assets, start, end, freq)"
   ]
  },
  {
   "cell_type": "code",
   "execution_count": 18,
   "id": "ef5cd15a",
   "metadata": {},
   "outputs": [
    {
     "data": {
      "text/html": [
       "<div>\n",
       "<style scoped>\n",
       "    .dataframe tbody tr th:only-of-type {\n",
       "        vertical-align: middle;\n",
       "    }\n",
       "\n",
       "    .dataframe tbody tr th {\n",
       "        vertical-align: top;\n",
       "    }\n",
       "\n",
       "    .dataframe thead th {\n",
       "        text-align: right;\n",
       "    }\n",
       "</style>\n",
       "<table border=\"1\" class=\"dataframe\">\n",
       "  <thead>\n",
       "    <tr style=\"text-align: right;\">\n",
       "      <th>Symbols</th>\n",
       "      <th>FSLR</th>\n",
       "      <th>KO</th>\n",
       "      <th>MRNA</th>\n",
       "      <th>MSFT</th>\n",
       "      <th>PFE</th>\n",
       "      <th>VOO</th>\n",
       "      <th>VTIP</th>\n",
       "      <th>WNS</th>\n",
       "      <th>ZM</th>\n",
       "      <th>NIO</th>\n",
       "      <th>NVDA</th>\n",
       "      <th>DIS</th>\n",
       "      <th>UTF</th>\n",
       "      <th>CCL</th>\n",
       "      <th>AMD</th>\n",
       "      <th>VUG</th>\n",
       "      <th>FDX</th>\n",
       "    </tr>\n",
       "    <tr>\n",
       "      <th>Date</th>\n",
       "      <th></th>\n",
       "      <th></th>\n",
       "      <th></th>\n",
       "      <th></th>\n",
       "      <th></th>\n",
       "      <th></th>\n",
       "      <th></th>\n",
       "      <th></th>\n",
       "      <th></th>\n",
       "      <th></th>\n",
       "      <th></th>\n",
       "      <th></th>\n",
       "      <th></th>\n",
       "      <th></th>\n",
       "      <th></th>\n",
       "      <th></th>\n",
       "      <th></th>\n",
       "    </tr>\n",
       "  </thead>\n",
       "  <tbody>\n",
       "    <tr>\n",
       "      <th>2021-11-01</th>\n",
       "      <td>121.139999</td>\n",
       "      <td>56.169998</td>\n",
       "      <td>337.170013</td>\n",
       "      <td>329.369995</td>\n",
       "      <td>43.639999</td>\n",
       "      <td>423.049988</td>\n",
       "      <td>52.000000</td>\n",
       "      <td>89.709999</td>\n",
       "      <td>278.940002</td>\n",
       "      <td>40.840000</td>\n",
       "      <td>258.269989</td>\n",
       "      <td>170.190002</td>\n",
       "      <td>28.520000</td>\n",
       "      <td>23.07</td>\n",
       "      <td>125.230003</td>\n",
       "      <td>314.299988</td>\n",
       "      <td>235.639999</td>\n",
       "    </tr>\n",
       "    <tr>\n",
       "      <th>2021-11-02</th>\n",
       "      <td>118.650002</td>\n",
       "      <td>56.099998</td>\n",
       "      <td>348.640015</td>\n",
       "      <td>333.130005</td>\n",
       "      <td>45.450001</td>\n",
       "      <td>424.690002</td>\n",
       "      <td>52.049999</td>\n",
       "      <td>90.239998</td>\n",
       "      <td>280.290009</td>\n",
       "      <td>41.299999</td>\n",
       "      <td>264.010010</td>\n",
       "      <td>169.830002</td>\n",
       "      <td>28.389999</td>\n",
       "      <td>22.91</td>\n",
       "      <td>127.629997</td>\n",
       "      <td>315.230011</td>\n",
       "      <td>235.770004</td>\n",
       "    </tr>\n",
       "    <tr>\n",
       "      <th>2021-11-03</th>\n",
       "      <td>116.830002</td>\n",
       "      <td>56.290001</td>\n",
       "      <td>345.920013</td>\n",
       "      <td>334.000000</td>\n",
       "      <td>44.820000</td>\n",
       "      <td>427.250000</td>\n",
       "      <td>52.060001</td>\n",
       "      <td>88.589996</td>\n",
       "      <td>285.660004</td>\n",
       "      <td>41.500000</td>\n",
       "      <td>265.980011</td>\n",
       "      <td>170.080002</td>\n",
       "      <td>28.430000</td>\n",
       "      <td>23.17</td>\n",
       "      <td>130.529999</td>\n",
       "      <td>317.359985</td>\n",
       "      <td>240.020004</td>\n",
       "    </tr>\n",
       "  </tbody>\n",
       "</table>\n",
       "</div>"
      ],
      "text/plain": [
       "Symbols           FSLR         KO        MRNA        MSFT        PFE  \\\n",
       "Date                                                                   \n",
       "2021-11-01  121.139999  56.169998  337.170013  329.369995  43.639999   \n",
       "2021-11-02  118.650002  56.099998  348.640015  333.130005  45.450001   \n",
       "2021-11-03  116.830002  56.290001  345.920013  334.000000  44.820000   \n",
       "\n",
       "Symbols            VOO       VTIP        WNS          ZM        NIO  \\\n",
       "Date                                                                  \n",
       "2021-11-01  423.049988  52.000000  89.709999  278.940002  40.840000   \n",
       "2021-11-02  424.690002  52.049999  90.239998  280.290009  41.299999   \n",
       "2021-11-03  427.250000  52.060001  88.589996  285.660004  41.500000   \n",
       "\n",
       "Symbols           NVDA         DIS        UTF    CCL         AMD         VUG  \\\n",
       "Date                                                                           \n",
       "2021-11-01  258.269989  170.190002  28.520000  23.07  125.230003  314.299988   \n",
       "2021-11-02  264.010010  169.830002  28.389999  22.91  127.629997  315.230011   \n",
       "2021-11-03  265.980011  170.080002  28.430000  23.17  130.529999  317.359985   \n",
       "\n",
       "Symbols            FDX  \n",
       "Date                    \n",
       "2021-11-01  235.639999  \n",
       "2021-11-02  235.770004  \n",
       "2021-11-03  240.020004  "
      ]
     },
     "execution_count": 18,
     "metadata": {},
     "output_type": "execute_result"
    }
   ],
   "source": [
    "prices"
   ]
  },
  {
   "cell_type": "code",
   "execution_count": 19,
   "id": "5ba69170",
   "metadata": {},
   "outputs": [],
   "source": [
    "prices.to_csv('D:/Downloads/prices.csv', index = False)"
   ]
  },
  {
   "cell_type": "code",
   "execution_count": 20,
   "id": "3c56e3d9",
   "metadata": {},
   "outputs": [],
   "source": [
    "ret = prices.pct_change().dropna()"
   ]
  },
  {
   "cell_type": "code",
   "execution_count": 21,
   "id": "a00d4da1",
   "metadata": {},
   "outputs": [
    {
     "data": {
      "text/html": [
       "<div>\n",
       "<style scoped>\n",
       "    .dataframe tbody tr th:only-of-type {\n",
       "        vertical-align: middle;\n",
       "    }\n",
       "\n",
       "    .dataframe tbody tr th {\n",
       "        vertical-align: top;\n",
       "    }\n",
       "\n",
       "    .dataframe thead th {\n",
       "        text-align: right;\n",
       "    }\n",
       "</style>\n",
       "<table border=\"1\" class=\"dataframe\">\n",
       "  <thead>\n",
       "    <tr style=\"text-align: right;\">\n",
       "      <th>Symbols</th>\n",
       "      <th>FSLR</th>\n",
       "      <th>KO</th>\n",
       "      <th>MRNA</th>\n",
       "      <th>MSFT</th>\n",
       "      <th>PFE</th>\n",
       "      <th>VOO</th>\n",
       "      <th>VTIP</th>\n",
       "      <th>WNS</th>\n",
       "      <th>ZM</th>\n",
       "      <th>NIO</th>\n",
       "      <th>NVDA</th>\n",
       "      <th>DIS</th>\n",
       "      <th>UTF</th>\n",
       "      <th>CCL</th>\n",
       "      <th>AMD</th>\n",
       "      <th>VUG</th>\n",
       "      <th>FDX</th>\n",
       "    </tr>\n",
       "    <tr>\n",
       "      <th>Date</th>\n",
       "      <th></th>\n",
       "      <th></th>\n",
       "      <th></th>\n",
       "      <th></th>\n",
       "      <th></th>\n",
       "      <th></th>\n",
       "      <th></th>\n",
       "      <th></th>\n",
       "      <th></th>\n",
       "      <th></th>\n",
       "      <th></th>\n",
       "      <th></th>\n",
       "      <th></th>\n",
       "      <th></th>\n",
       "      <th></th>\n",
       "      <th></th>\n",
       "      <th></th>\n",
       "    </tr>\n",
       "  </thead>\n",
       "  <tbody>\n",
       "    <tr>\n",
       "      <th>2021-11-02</th>\n",
       "      <td>-0.020555</td>\n",
       "      <td>-0.001246</td>\n",
       "      <td>0.034018</td>\n",
       "      <td>0.011416</td>\n",
       "      <td>0.041476</td>\n",
       "      <td>0.003877</td>\n",
       "      <td>0.000962</td>\n",
       "      <td>0.005908</td>\n",
       "      <td>0.004840</td>\n",
       "      <td>0.011263</td>\n",
       "      <td>0.022225</td>\n",
       "      <td>-0.002115</td>\n",
       "      <td>-0.004558</td>\n",
       "      <td>-0.006935</td>\n",
       "      <td>0.019165</td>\n",
       "      <td>0.002959</td>\n",
       "      <td>0.000552</td>\n",
       "    </tr>\n",
       "    <tr>\n",
       "      <th>2021-11-03</th>\n",
       "      <td>-0.015339</td>\n",
       "      <td>0.003387</td>\n",
       "      <td>-0.007802</td>\n",
       "      <td>0.002612</td>\n",
       "      <td>-0.013861</td>\n",
       "      <td>0.006028</td>\n",
       "      <td>0.000192</td>\n",
       "      <td>-0.018285</td>\n",
       "      <td>0.019159</td>\n",
       "      <td>0.004843</td>\n",
       "      <td>0.007462</td>\n",
       "      <td>0.001472</td>\n",
       "      <td>0.001409</td>\n",
       "      <td>0.011349</td>\n",
       "      <td>0.022722</td>\n",
       "      <td>0.006757</td>\n",
       "      <td>0.018026</td>\n",
       "    </tr>\n",
       "  </tbody>\n",
       "</table>\n",
       "</div>"
      ],
      "text/plain": [
       "Symbols         FSLR        KO      MRNA      MSFT       PFE       VOO  \\\n",
       "Date                                                                     \n",
       "2021-11-02 -0.020555 -0.001246  0.034018  0.011416  0.041476  0.003877   \n",
       "2021-11-03 -0.015339  0.003387 -0.007802  0.002612 -0.013861  0.006028   \n",
       "\n",
       "Symbols         VTIP       WNS        ZM       NIO      NVDA       DIS  \\\n",
       "Date                                                                     \n",
       "2021-11-02  0.000962  0.005908  0.004840  0.011263  0.022225 -0.002115   \n",
       "2021-11-03  0.000192 -0.018285  0.019159  0.004843  0.007462  0.001472   \n",
       "\n",
       "Symbols          UTF       CCL       AMD       VUG       FDX  \n",
       "Date                                                          \n",
       "2021-11-02 -0.004558 -0.006935  0.019165  0.002959  0.000552  \n",
       "2021-11-03  0.001409  0.011349  0.022722  0.006757  0.018026  "
      ]
     },
     "execution_count": 21,
     "metadata": {},
     "output_type": "execute_result"
    }
   ],
   "source": [
    "ret"
   ]
  },
  {
   "cell_type": "code",
   "execution_count": 22,
   "id": "58e4e64a",
   "metadata": {},
   "outputs": [],
   "source": [
    "a, b = simulacion_pfolios(ret, rf, pfolio_assets)"
   ]
  },
  {
   "cell_type": "code",
   "execution_count": 23,
   "id": "090691c7",
   "metadata": {},
   "outputs": [
    {
     "data": {
      "text/html": [
       "<div>\n",
       "<style scoped>\n",
       "    .dataframe tbody tr th:only-of-type {\n",
       "        vertical-align: middle;\n",
       "    }\n",
       "\n",
       "    .dataframe tbody tr th {\n",
       "        vertical-align: top;\n",
       "    }\n",
       "\n",
       "    .dataframe thead th {\n",
       "        text-align: right;\n",
       "    }\n",
       "</style>\n",
       "<table border=\"1\" class=\"dataframe\">\n",
       "  <thead>\n",
       "    <tr style=\"text-align: right;\">\n",
       "      <th></th>\n",
       "      <th>Media</th>\n",
       "      <th>Vol</th>\n",
       "      <th>w</th>\n",
       "    </tr>\n",
       "    <tr>\n",
       "      <th>Symbols</th>\n",
       "      <th></th>\n",
       "      <th></th>\n",
       "      <th></th>\n",
       "    </tr>\n",
       "  </thead>\n",
       "  <tbody>\n",
       "    <tr>\n",
       "      <th>FSLR</th>\n",
       "      <td>-0.017947</td>\n",
       "      <td>0.003688</td>\n",
       "      <td>0.0078</td>\n",
       "    </tr>\n",
       "    <tr>\n",
       "      <th>KO</th>\n",
       "      <td>0.001070</td>\n",
       "      <td>0.003276</td>\n",
       "      <td>0.0800</td>\n",
       "    </tr>\n",
       "    <tr>\n",
       "      <th>MRNA</th>\n",
       "      <td>0.013108</td>\n",
       "      <td>0.029571</td>\n",
       "      <td>0.0447</td>\n",
       "    </tr>\n",
       "    <tr>\n",
       "      <th>MSFT</th>\n",
       "      <td>0.007014</td>\n",
       "      <td>0.006225</td>\n",
       "      <td>0.0422</td>\n",
       "    </tr>\n",
       "    <tr>\n",
       "      <th>PFE</th>\n",
       "      <td>0.013807</td>\n",
       "      <td>0.039129</td>\n",
       "      <td>0.0417</td>\n",
       "    </tr>\n",
       "    <tr>\n",
       "      <th>VOO</th>\n",
       "      <td>0.004952</td>\n",
       "      <td>0.001521</td>\n",
       "      <td>0.0800</td>\n",
       "    </tr>\n",
       "    <tr>\n",
       "      <th>VTIP</th>\n",
       "      <td>0.000577</td>\n",
       "      <td>0.000544</td>\n",
       "      <td>0.0573</td>\n",
       "    </tr>\n",
       "    <tr>\n",
       "      <th>WNS</th>\n",
       "      <td>-0.006188</td>\n",
       "      <td>0.017107</td>\n",
       "      <td>0.0001</td>\n",
       "    </tr>\n",
       "    <tr>\n",
       "      <th>ZM</th>\n",
       "      <td>0.011999</td>\n",
       "      <td>0.010125</td>\n",
       "      <td>0.0799</td>\n",
       "    </tr>\n",
       "    <tr>\n",
       "      <th>NIO</th>\n",
       "      <td>0.008053</td>\n",
       "      <td>0.004540</td>\n",
       "      <td>0.0800</td>\n",
       "    </tr>\n",
       "    <tr>\n",
       "      <th>NVDA</th>\n",
       "      <td>0.014843</td>\n",
       "      <td>0.010439</td>\n",
       "      <td>0.0422</td>\n",
       "    </tr>\n",
       "    <tr>\n",
       "      <th>DIS</th>\n",
       "      <td>-0.000322</td>\n",
       "      <td>0.002537</td>\n",
       "      <td>0.0789</td>\n",
       "    </tr>\n",
       "    <tr>\n",
       "      <th>UTF</th>\n",
       "      <td>-0.001575</td>\n",
       "      <td>0.004219</td>\n",
       "      <td>0.0452</td>\n",
       "    </tr>\n",
       "    <tr>\n",
       "      <th>CCL</th>\n",
       "      <td>0.002207</td>\n",
       "      <td>0.012929</td>\n",
       "      <td>0.0800</td>\n",
       "    </tr>\n",
       "    <tr>\n",
       "      <th>AMD</th>\n",
       "      <td>0.020943</td>\n",
       "      <td>0.002515</td>\n",
       "      <td>0.0800</td>\n",
       "    </tr>\n",
       "    <tr>\n",
       "      <th>VUG</th>\n",
       "      <td>0.004858</td>\n",
       "      <td>0.002685</td>\n",
       "      <td>0.0800</td>\n",
       "    </tr>\n",
       "    <tr>\n",
       "      <th>FDX</th>\n",
       "      <td>0.009289</td>\n",
       "      <td>0.012356</td>\n",
       "      <td>0.0799</td>\n",
       "    </tr>\n",
       "  </tbody>\n",
       "</table>\n",
       "</div>"
      ],
      "text/plain": [
       "            Media       Vol       w\n",
       "Symbols                            \n",
       "FSLR    -0.017947  0.003688  0.0078\n",
       "KO       0.001070  0.003276  0.0800\n",
       "MRNA     0.013108  0.029571  0.0447\n",
       "MSFT     0.007014  0.006225  0.0422\n",
       "PFE      0.013807  0.039129  0.0417\n",
       "VOO      0.004952  0.001521  0.0800\n",
       "VTIP     0.000577  0.000544  0.0573\n",
       "WNS     -0.006188  0.017107  0.0001\n",
       "ZM       0.011999  0.010125  0.0799\n",
       "NIO      0.008053  0.004540  0.0800\n",
       "NVDA     0.014843  0.010439  0.0422\n",
       "DIS     -0.000322  0.002537  0.0789\n",
       "UTF     -0.001575  0.004219  0.0452\n",
       "CCL      0.002207  0.012929  0.0800\n",
       "AMD      0.020943  0.002515  0.0800\n",
       "VUG      0.004858  0.002685  0.0800\n",
       "FDX      0.009289  0.012356  0.0799"
      ]
     },
     "metadata": {},
     "output_type": "display_data"
    },
    {
     "data": {
      "text/html": [
       "<div>\n",
       "<style scoped>\n",
       "    .dataframe tbody tr th:only-of-type {\n",
       "        vertical-align: middle;\n",
       "    }\n",
       "\n",
       "    .dataframe tbody tr th {\n",
       "        vertical-align: top;\n",
       "    }\n",
       "\n",
       "    .dataframe thead th {\n",
       "        text-align: right;\n",
       "    }\n",
       "</style>\n",
       "<table border=\"1\" class=\"dataframe\">\n",
       "  <thead>\n",
       "    <tr style=\"text-align: right;\">\n",
       "      <th></th>\n",
       "      <th>E_EMV</th>\n",
       "      <th>Volatilidad</th>\n",
       "      <th>Sharpe Ratio</th>\n",
       "    </tr>\n",
       "  </thead>\n",
       "  <tbody>\n",
       "    <tr>\n",
       "      <th>0</th>\n",
       "      <td>0.006948</td>\n",
       "      <td>0.000003</td>\n",
       "      <td>2237.100422</td>\n",
       "    </tr>\n",
       "  </tbody>\n",
       "</table>\n",
       "</div>"
      ],
      "text/plain": [
       "      E_EMV  Volatilidad  Sharpe Ratio\n",
       "0  0.006948     0.000003   2237.100422"
      ]
     },
     "metadata": {},
     "output_type": "display_data"
    }
   ],
   "source": [
    "display(a, b)"
   ]
  },
  {
   "cell_type": "markdown",
   "id": "6975a2fc",
   "metadata": {},
   "source": [
    "### Portafolio Real"
   ]
  },
  {
   "cell_type": "code",
   "execution_count": 24,
   "id": "0feee7bf",
   "metadata": {},
   "outputs": [
    {
     "data": {
      "text/plain": [
       "17"
      ]
     },
     "execution_count": 24,
     "metadata": {},
     "output_type": "execute_result"
    }
   ],
   "source": [
    "n_assets = len(pfolio_assets)\n",
    "n_assets"
   ]
  },
  {
   "cell_type": "code",
   "execution_count": 25,
   "id": "9085ca7e",
   "metadata": {},
   "outputs": [],
   "source": [
    "actual_prices = get_adj_closes(pfolio_assets, '2021-11-03', '2021-11-03', 'd')"
   ]
  },
  {
   "cell_type": "code",
   "execution_count": 26,
   "id": "d74dec2e",
   "metadata": {},
   "outputs": [],
   "source": [
    "actual_price = np.round(actual_prices.head(1).values[0], 2)"
   ]
  },
  {
   "cell_type": "code",
   "execution_count": 27,
   "id": "e403a1fd",
   "metadata": {},
   "outputs": [
    {
     "data": {
      "text/plain": [
       "array([-0.0264, -0.0005,  0.0021,  0.0057, -0.0108,  0.0072,  0.0002,\n",
       "       -0.0171,  0.0153, -0.0005,  0.0146,  0.0016, -0.0042,  0.0149,\n",
       "        0.0369,  0.0066,  0.0139])"
      ]
     },
     "execution_count": 27,
     "metadata": {},
     "output_type": "execute_result"
    }
   ],
   "source": [
    "pct_change = np.round([actual_price[i]/pprice[i]-1 for i in range(n_assets)], 4)\n",
    "pct_change"
   ]
  },
  {
   "cell_type": "code",
   "execution_count": 28,
   "id": "ab1c1c11",
   "metadata": {},
   "outputs": [],
   "source": [
    "initial_pvalue = np.sum([pprice[i]*Q[i] for i in range(n_assets)])"
   ]
  },
  {
   "cell_type": "code",
   "execution_count": 29,
   "id": "a2d3289c",
   "metadata": {},
   "outputs": [
    {
     "data": {
      "text/plain": [
       "48446.020000000004"
      ]
     },
     "execution_count": 29,
     "metadata": {},
     "output_type": "execute_result"
    }
   ],
   "source": [
    "initial_pvalue"
   ]
  },
  {
   "cell_type": "code",
   "execution_count": 30,
   "id": "5ee34590",
   "metadata": {},
   "outputs": [
    {
     "data": {
      "text/plain": [
       "51553.979999999996"
      ]
     },
     "execution_count": 30,
     "metadata": {},
     "output_type": "execute_result"
    }
   ],
   "source": [
    "# Cantidad en USD disponible\n",
    "USD = II-initial_pvalue\n",
    "USD"
   ]
  },
  {
   "cell_type": "code",
   "execution_count": 31,
   "id": "4a510292",
   "metadata": {},
   "outputs": [
    {
     "data": {
      "text/plain": [
       "100000.0"
      ]
     },
     "execution_count": 31,
     "metadata": {},
     "output_type": "execute_result"
    }
   ],
   "source": [
    "# Balance Inicial\n",
    "IB = USD+initial_pvalue\n",
    "IB"
   ]
  },
  {
   "cell_type": "code",
   "execution_count": 32,
   "id": "18097fe9",
   "metadata": {},
   "outputs": [
    {
     "data": {
      "text/plain": [
       "48513.67563600001"
      ]
     },
     "execution_count": 32,
     "metadata": {},
     "output_type": "execute_result"
    }
   ],
   "source": [
    "actual_pvalue = np.sum([(pprice[i]*Q[i])*(1+pct_change[i]) for i in range(n_assets)])\n",
    "actual_pvalue"
   ]
  },
  {
   "cell_type": "code",
   "execution_count": 33,
   "id": "377a3936",
   "metadata": {},
   "outputs": [
    {
     "data": {
      "text/plain": [
       "100067.65563600001"
      ]
     },
     "execution_count": 33,
     "metadata": {},
     "output_type": "execute_result"
    }
   ],
   "source": [
    "Actual_Balance = actual_pvalue+USD\n",
    "Actual_Balance"
   ]
  },
  {
   "cell_type": "code",
   "execution_count": 34,
   "id": "eb6d4cc9",
   "metadata": {},
   "outputs": [
    {
     "data": {
      "text/plain": [
       "array([0.035 , 0.0338, 0.0173, 0.0334, 0.009 , 0.0256, 0.026 , 0.0266,\n",
       "       0.0285, 0.0332, 0.008 , 0.034 , 0.0568, 0.0005, 0.013 , 0.0634,\n",
       "       0.0408])"
      ]
     },
     "execution_count": 34,
     "metadata": {},
     "output_type": "execute_result"
    }
   ],
   "source": [
    "w = np.round([(Q[i]*actual_price[i])/Actual_Balance for i in range(n_assets)], 4)\n",
    "w"
   ]
  },
  {
   "cell_type": "code",
   "execution_count": 35,
   "id": "4987669a",
   "metadata": {},
   "outputs": [
    {
     "data": {
      "text/html": [
       "<div>\n",
       "<style scoped>\n",
       "    .dataframe tbody tr th:only-of-type {\n",
       "        vertical-align: middle;\n",
       "    }\n",
       "\n",
       "    .dataframe tbody tr th {\n",
       "        vertical-align: top;\n",
       "    }\n",
       "\n",
       "    .dataframe thead th {\n",
       "        text-align: right;\n",
       "    }\n",
       "</style>\n",
       "<table border=\"1\" class=\"dataframe\">\n",
       "  <thead>\n",
       "    <tr style=\"text-align: right;\">\n",
       "      <th></th>\n",
       "      <th>Ticker</th>\n",
       "      <th>Q</th>\n",
       "      <th>Purchase price</th>\n",
       "      <th>Actual Price</th>\n",
       "      <th>% change</th>\n",
       "      <th>w</th>\n",
       "    </tr>\n",
       "  </thead>\n",
       "  <tbody>\n",
       "    <tr>\n",
       "      <th>0</th>\n",
       "      <td>FSLR</td>\n",
       "      <td>30</td>\n",
       "      <td>120.00</td>\n",
       "      <td>116.83</td>\n",
       "      <td>-2.64</td>\n",
       "      <td>3.50</td>\n",
       "    </tr>\n",
       "    <tr>\n",
       "      <th>1</th>\n",
       "      <td>KO</td>\n",
       "      <td>60</td>\n",
       "      <td>56.32</td>\n",
       "      <td>56.29</td>\n",
       "      <td>-0.05</td>\n",
       "      <td>3.38</td>\n",
       "    </tr>\n",
       "    <tr>\n",
       "      <th>2</th>\n",
       "      <td>MRNA</td>\n",
       "      <td>5</td>\n",
       "      <td>345.19</td>\n",
       "      <td>345.92</td>\n",
       "      <td>0.21</td>\n",
       "      <td>1.73</td>\n",
       "    </tr>\n",
       "    <tr>\n",
       "      <th>3</th>\n",
       "      <td>MSFT</td>\n",
       "      <td>10</td>\n",
       "      <td>332.10</td>\n",
       "      <td>334.00</td>\n",
       "      <td>0.57</td>\n",
       "      <td>3.34</td>\n",
       "    </tr>\n",
       "    <tr>\n",
       "      <th>4</th>\n",
       "      <td>PFE</td>\n",
       "      <td>20</td>\n",
       "      <td>45.31</td>\n",
       "      <td>44.82</td>\n",
       "      <td>-1.08</td>\n",
       "      <td>0.90</td>\n",
       "    </tr>\n",
       "    <tr>\n",
       "      <th>5</th>\n",
       "      <td>VOO</td>\n",
       "      <td>6</td>\n",
       "      <td>424.18</td>\n",
       "      <td>427.25</td>\n",
       "      <td>0.72</td>\n",
       "      <td>2.56</td>\n",
       "    </tr>\n",
       "    <tr>\n",
       "      <th>6</th>\n",
       "      <td>VTIP</td>\n",
       "      <td>50</td>\n",
       "      <td>52.05</td>\n",
       "      <td>52.06</td>\n",
       "      <td>0.02</td>\n",
       "      <td>2.60</td>\n",
       "    </tr>\n",
       "    <tr>\n",
       "      <th>7</th>\n",
       "      <td>WNS</td>\n",
       "      <td>30</td>\n",
       "      <td>90.13</td>\n",
       "      <td>88.59</td>\n",
       "      <td>-1.71</td>\n",
       "      <td>2.66</td>\n",
       "    </tr>\n",
       "    <tr>\n",
       "      <th>8</th>\n",
       "      <td>ZM</td>\n",
       "      <td>10</td>\n",
       "      <td>281.36</td>\n",
       "      <td>285.66</td>\n",
       "      <td>1.53</td>\n",
       "      <td>2.85</td>\n",
       "    </tr>\n",
       "    <tr>\n",
       "      <th>9</th>\n",
       "      <td>NIO</td>\n",
       "      <td>80</td>\n",
       "      <td>41.52</td>\n",
       "      <td>41.50</td>\n",
       "      <td>-0.05</td>\n",
       "      <td>3.32</td>\n",
       "    </tr>\n",
       "    <tr>\n",
       "      <th>10</th>\n",
       "      <td>NVDA</td>\n",
       "      <td>3</td>\n",
       "      <td>262.14</td>\n",
       "      <td>265.98</td>\n",
       "      <td>1.46</td>\n",
       "      <td>0.80</td>\n",
       "    </tr>\n",
       "    <tr>\n",
       "      <th>11</th>\n",
       "      <td>DIS</td>\n",
       "      <td>20</td>\n",
       "      <td>169.81</td>\n",
       "      <td>170.08</td>\n",
       "      <td>0.16</td>\n",
       "      <td>3.40</td>\n",
       "    </tr>\n",
       "    <tr>\n",
       "      <th>12</th>\n",
       "      <td>UTF</td>\n",
       "      <td>200</td>\n",
       "      <td>28.55</td>\n",
       "      <td>28.43</td>\n",
       "      <td>-0.42</td>\n",
       "      <td>5.68</td>\n",
       "    </tr>\n",
       "    <tr>\n",
       "      <th>13</th>\n",
       "      <td>CCL</td>\n",
       "      <td>2</td>\n",
       "      <td>22.83</td>\n",
       "      <td>23.17</td>\n",
       "      <td>1.49</td>\n",
       "      <td>0.05</td>\n",
       "    </tr>\n",
       "    <tr>\n",
       "      <th>14</th>\n",
       "      <td>AMD</td>\n",
       "      <td>10</td>\n",
       "      <td>125.89</td>\n",
       "      <td>130.53</td>\n",
       "      <td>3.69</td>\n",
       "      <td>1.30</td>\n",
       "    </tr>\n",
       "    <tr>\n",
       "      <th>15</th>\n",
       "      <td>VUG</td>\n",
       "      <td>20</td>\n",
       "      <td>315.27</td>\n",
       "      <td>317.36</td>\n",
       "      <td>0.66</td>\n",
       "      <td>6.34</td>\n",
       "    </tr>\n",
       "    <tr>\n",
       "      <th>16</th>\n",
       "      <td>FDX</td>\n",
       "      <td>17</td>\n",
       "      <td>236.73</td>\n",
       "      <td>240.02</td>\n",
       "      <td>1.39</td>\n",
       "      <td>4.08</td>\n",
       "    </tr>\n",
       "  </tbody>\n",
       "</table>\n",
       "</div>"
      ],
      "text/plain": [
       "   Ticker    Q  Purchase price  Actual Price  % change     w\n",
       "0    FSLR   30          120.00        116.83     -2.64  3.50\n",
       "1      KO   60           56.32         56.29     -0.05  3.38\n",
       "2    MRNA    5          345.19        345.92      0.21  1.73\n",
       "3    MSFT   10          332.10        334.00      0.57  3.34\n",
       "4     PFE   20           45.31         44.82     -1.08  0.90\n",
       "5     VOO    6          424.18        427.25      0.72  2.56\n",
       "6    VTIP   50           52.05         52.06      0.02  2.60\n",
       "7     WNS   30           90.13         88.59     -1.71  2.66\n",
       "8      ZM   10          281.36        285.66      1.53  2.85\n",
       "9     NIO   80           41.52         41.50     -0.05  3.32\n",
       "10   NVDA    3          262.14        265.98      1.46  0.80\n",
       "11    DIS   20          169.81        170.08      0.16  3.40\n",
       "12    UTF  200           28.55         28.43     -0.42  5.68\n",
       "13    CCL    2           22.83         23.17      1.49  0.05\n",
       "14    AMD   10          125.89        130.53      3.69  1.30\n",
       "15    VUG   20          315.27        317.36      0.66  6.34\n",
       "16    FDX   17          236.73        240.02      1.39  4.08"
      ]
     },
     "execution_count": 35,
     "metadata": {},
     "output_type": "execute_result"
    }
   ],
   "source": [
    "pfolio = pd.DataFrame(data = {'Ticker': pfolio_assets,\n",
    "                              'Q': Q,\n",
    "                              'Purchase price': pprice,\n",
    "                              'Actual Price': actual_price,\n",
    "                              '% change': pct_change*100,\n",
    "                              'w': w*100})\n",
    "pfolio"
   ]
  },
  {
   "cell_type": "code",
   "execution_count": 36,
   "id": "23b940a9",
   "metadata": {},
   "outputs": [
    {
     "data": {
      "text/plain": [
       "0.000677"
      ]
     },
     "execution_count": 36,
     "metadata": {},
     "output_type": "execute_result"
    }
   ],
   "source": [
    "np.round((((actual_pvalue+USD)/(initial_pvalue+USD))-1), 6)"
   ]
  },
  {
   "cell_type": "code",
   "execution_count": 37,
   "id": "725ba8e7",
   "metadata": {},
   "outputs": [
    {
     "data": {
      "text/plain": [
       "0.0034999999999999996"
      ]
     },
     "execution_count": 37,
     "metadata": {},
     "output_type": "execute_result"
    }
   ],
   "source": [
    "pfolio_R = np.mean(pct_change)\n",
    "pfolio_R"
   ]
  },
  {
   "cell_type": "code",
   "execution_count": 38,
   "id": "6c05b66b",
   "metadata": {},
   "outputs": [
    {
     "data": {
      "text/plain": [
       "0.013879481258317977"
      ]
     },
     "execution_count": 38,
     "metadata": {},
     "output_type": "execute_result"
    }
   ],
   "source": [
    "pfolio_std = np.std(pct_change)\n",
    "pfolio_std"
   ]
  },
  {
   "cell_type": "code",
   "execution_count": 39,
   "id": "0849e4c0",
   "metadata": {},
   "outputs": [
    {
     "data": {
      "text/plain": [
       "0.20909987543363795"
      ]
     },
     "execution_count": 39,
     "metadata": {},
     "output_type": "execute_result"
    }
   ],
   "source": [
    "pfolio_RS = (pfolio_R-rf)/pfolio_std\n",
    "pfolio_RS"
   ]
  },
  {
   "cell_type": "code",
   "execution_count": null,
   "id": "08ab20a6",
   "metadata": {},
   "outputs": [],
   "source": []
  }
 ],
 "metadata": {
  "kernelspec": {
   "display_name": "Python 3",
   "language": "python",
   "name": "python3"
  },
  "language_info": {
   "codemirror_mode": {
    "name": "ipython",
    "version": 3
   },
   "file_extension": ".py",
   "mimetype": "text/x-python",
   "name": "python",
   "nbconvert_exporter": "python",
   "pygments_lexer": "ipython3",
   "version": "3.8.8"
  },
  "toc": {
   "base_numbering": 1,
   "nav_menu": {},
   "number_sections": false,
   "sideBar": true,
   "skip_h1_title": false,
   "title_cell": "Table of Contents",
   "title_sidebar": "Contents",
   "toc_cell": false,
   "toc_position": {},
   "toc_section_display": true,
   "toc_window_display": false
  }
 },
 "nbformat": 4,
 "nbformat_minor": 5
}
