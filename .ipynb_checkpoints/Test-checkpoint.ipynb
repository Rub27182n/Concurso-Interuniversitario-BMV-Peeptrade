{
 "cells": [
  {
   "cell_type": "markdown",
   "id": "77164964",
   "metadata": {},
   "source": [
    "<img src=\"http://oci02.img.iteso.mx/identidad_de_instancia_2018/ITESO/Logos%20ITESO/Logo-ITESO-Principal.jpg\" width=\"800px\" height=\"400px\"/>"
   ]
  },
  {
   "cell_type": "markdown",
   "id": "0b5ea0b6",
   "metadata": {},
   "source": [
    "# <font color='midnightblue'> <center> Concurso Interuniversitario BMV-Peeptrade </center>"
   ]
  },
  {
   "cell_type": "markdown",
   "id": "df4f68bf",
   "metadata": {},
   "source": [
    "# <font color='midnightblue'> **Integrantes:**\n",
    "\n",
    "<font color='midnightblue'> **Rubén Hernández Guevara | if717710**\n",
    "    \n",
    "<font color='midnightblue'> **Juan Pablo Rodríguez Alonso | if715180**\n",
    "    \n",
    "<font color='midnightblue'> **Andrés Ramírez Villanueva | if726061**"
   ]
  },
  {
   "cell_type": "code",
   "execution_count": 1,
   "id": "841f1e4f",
   "metadata": {},
   "outputs": [],
   "source": [
    "import matplotlib\n",
    "import numpy as np\n",
    "import pandas as pd\n",
    "import scipy.stats as stats\n",
    "import plotly.express as px\n",
    "import scipy.optimize as opt\n",
    "import plotly.graph_objs as go\n",
    "import matplotlib.pyplot as plt\n",
    "from scipy.optimize import minimize\n",
    "import pandas_datareader.data as web\n",
    "from plotly.subplots import make_subplots\n",
    "from pandas_datareader import data as pdr\n",
    "import yfinance as yfin\n",
    "yfin.pdr_override()"
   ]
  },
  {
   "cell_type": "code",
   "execution_count": 2,
   "id": "40cc24d2",
   "metadata": {},
   "outputs": [],
   "source": [
    "IPC = pd.read_csv('IPC Tickers.csv')"
   ]
  },
  {
   "cell_type": "code",
   "execution_count": 4,
   "id": "e1336745",
   "metadata": {},
   "outputs": [],
   "source": [
    "def simulacion_pfolios(ret: 'Retornos',\n",
    "                       rf: 'Tasa Libre de Riesgo',\n",
    "                       g: 'Grado de Aversión al Riesgo'):\n",
    "    \n",
    "    global pesos, summary, w_EMV, w_opt, E_EMV, s_EMV\n",
    "        \n",
    "    #Rendimientos y volatilidades esperadas\n",
    "    summary = pd.DataFrame(data={'Media': 252*ret.mean(),\n",
    "                                 'Vol':((252)**(.5))*ret.std()})\n",
    "        \n",
    "    cov_ret = ret.cov() # Matriz de varianza - covarianza\n",
    "    \n",
    "    corr = ret.corr() # Matriz de correlación\n",
    "    \n",
    "    S = np.diag(summary['Vol'].values)\n",
    "    Sigma = S.dot(corr).dot(S)\n",
    "    Eind = summary['Media'].values\n",
    "    \n",
    "    n = len(Eind) # Número de activos    \n",
    "    w0 = np.ones((n,))/n # Dato inicial   \n",
    "    bnds = ((0, 1),)*n # Cotas de las variables    \n",
    "    cons={'type':'eq','fun':lambda w:w.sum()-1} # Restricciones\n",
    "    \n",
    "    # Portafolio de mínima varianza\n",
    "    minvar = minimize(fun=varianza,\n",
    "                      x0=w0,\n",
    "                      args=(Sigma,),\n",
    "                      bounds=bnds,\n",
    "                      constraints=cons,\n",
    "                      tol=1e-5)\n",
    "    \n",
    "    w_minvar = minvar.x\n",
    "    \n",
    "    E_minvar = Eind.T.dot(w_minvar)\n",
    "    s_minvar = (w_minvar.T.dot(Sigma).dot(w_minvar))**.5\n",
    "    RS_minvar = (E_minvar - rf)/s_minvar\n",
    "\n",
    "    # Portafolio EMV\n",
    "    EMV = minimize(fun = menos_RS,\n",
    "                   x0 = w0,\n",
    "                   args = (Eind, Sigma, rf),\n",
    "                   bounds = bnds,\n",
    "                   constraints = cons,\n",
    "                   tol = 1e-5)\n",
    "    w_EMV = EMV.x\n",
    "    \n",
    "    # Pesos, rendimiento y riesgo del portafolio EMV\n",
    "    E_EMV = Eind.T.dot(w_EMV)\n",
    "    s_EMV = (w_EMV.T.dot(Sigma).dot(w_EMV))**0.5\n",
    "    RS_EMV = (E_EMV - rf)/s_EMV\n",
    "    \n",
    "    #Asignación de capital\n",
    "    w_opt = (E_EMV - rf)/(g*s_EMV**2)\n",
    "    \n",
    "    pesos = [w_EMV[i]*w_opt for i in range(len(w_EMV))]\n",
    "    pesos.append(1-w_opt)\n",
    "    pesos = np.round(pesos, 4)\n",
    "    \n",
    "    tickers = 'VNQ VBK SPY VTI VGT IBM AAL NVDA PFE MSFT AAPL VWAGY NFLX MA KO Cetes'\n",
    "    tickers = tickers.split(' ')\n",
    "    \n",
    "    a_c = pd.DataFrame(columns = ['Asignación de Capital'], index=[tickers])\n",
    "    a_c['Asignación de Capital'] = pesos\n",
    "    \n",
    "    return a_c"
   ]
  },
  {
   "cell_type": "code",
   "execution_count": 5,
   "id": "f979898f",
   "metadata": {},
   "outputs": [],
   "source": [
    "def simulacion_inversion(inversion: 'Dinero Invertido',\n",
    "                         precios: 'Precios del Portafolio',\n",
    "                         pesos: 'Pesos de Activos en Portafolio',\n",
    "                         retornos: 'Retornos del Portafolio'):\n",
    "    \n",
    "    global inv_real, inv_teor, asignacion_activos, asignacion_rf, vfinal_activos, vfinal_rf, vfinal_pfolio,\\\n",
    "    rnd_activos, rnd_rf, rnd_pfolio, cumrets, Resultados\n",
    "    \n",
    "    asignacion_activos = np.sum(pesos[0:15])*inversion\n",
    "    asignacion_rf = inversion - asignacion_activos\n",
    "    \n",
    "    inv_teor = [pesos[i]*inversion for i in range(15)] # Inversión Teórica de Acuerdo a las Ponderaciones. \n",
    "    \n",
    "    vi_acciones = [precios.iloc[0].values[i] for i in range(15)] # Valor Inicial Real de las Acciones Al Momento de la Inversión.\n",
    "    \n",
    "    # Número de acciones a comprar\n",
    "    n_acciones = [(inv_teor[i]/vi_acciones[i]) for i in range(15)]\n",
    "    n_acciones = np.round(n_acciones) \n",
    "    \n",
    "    inv_real = [n_acciones[i]*vi_acciones[i] for i in range(15)] # Inversión real, de acuerdo a n acciones y precio inicial\n",
    "    \n",
    "    restante_inv_rf = [inv_teor[i]-inv_real[i] for i in range(15)]\n",
    "    restante_inv_rf = np.sum(restante_inv_rf)\n",
    "    asignacion_rf += restante_inv_rf\n",
    "    \n",
    "    \n",
    "    cumrets = pd.DataFrame(data = {'Date': retornos['Date'],\n",
    "                               'VNQ': (retornos['VNQ'] + 1).cumprod()*(inv_real[0]),\n",
    "                               'VBK': (retornos['VBK'] + 1).cumprod()*(inv_real[1]),\n",
    "                               'SPY': (retornos['SPY'] + 1).cumprod()*(inv_real[2]),\n",
    "                               'VTI': (retornos['VTI'] + 1).cumprod()*(inv_real[3]),\n",
    "                               'VGT': (retornos['VGT'] + 1).cumprod()*(inv_real[4]),\n",
    "                               'IBM': (retornos['IBM'] + 1).cumprod()*(inv_real[5]),\n",
    "                               'AAL': (retornos['AAL'] + 1).cumprod()*(inv_real[6]),\n",
    "                               'NVDA': (retornos['NVDA'] + 1).cumprod()*(inv_real[7]),\n",
    "                               'PFE': (retornos['PFE'] + 1).cumprod()*(inv_real[8]),\n",
    "                               'MSFT': (retornos['MSFT'] + 1).cumprod()*(inv_real[9]),\n",
    "                               'AAPL': (retornos['AAPL'] + 1).cumprod()*(inv_real[10]),\n",
    "                               'VWAGY': (retornos['VWAGY'] + 1).cumprod()*(inv_real[11]),\n",
    "                               'NFLX': (retornos['NFLX'] + 1).cumprod()*(inv_real[12]),\n",
    "                               'MA': (retornos['MA'] + 1).cumprod()*(inv_real[13]),\n",
    "                               'KO': (retornos['KO'] + 1).cumprod()*(inv_real[14])})\n",
    "\n",
    "    \n",
    "    fig = px.line(cumrets, x = \"Date\", y = cumrets.columns,\n",
    "              hover_data = {\"Date\": \"|%B %d, %Y\"},\n",
    "              title = 'Evolución del Portafolio')\n",
    "    fig.update_xaxes(\n",
    "        dtick = \"M1\",\n",
    "        tickformat=\"%b\\n%Y\")\n",
    "    fig.show()\n",
    "    \n",
    "    # Valor Final de Inversión \n",
    "    vfinal_activos = np.sum(cumrets.tail(1).values[0][1:])\n",
    "    vfinal_rf = asignacion_rf*(1+rf)   \n",
    "    vfinal_pfolio = vfinal_activos + vfinal_rf\n",
    "\n",
    "    # RETORNO DE ACCIONES %\n",
    "    rnd_activos = pct_chng(vfinal_activos, np.sum(inv_real))\n",
    "    rnd_rf = pct_chng(vfinal_rf, asignacion_rf)\n",
    "    rnd_pfolio = pct_chng(vfinal_pfolio, inversion)\n",
    "    \n",
    "    Resultados = pd.DataFrame(columns=['Tipo', 'Inversión Inicial', 'Valor Final', 'Rendimiento %'])\n",
    "    \n",
    "    Resultados['Tipo'] = ['Activos','Tasa', 'Portafolio']\n",
    "    Resultados['Inversión Inicial'] = [np.sum(inv_real), asignacion_rf, inversion]\n",
    "    Resultados['Valor Final'] = [vfinal_activos, vfinal_rf, vfinal_pfolio]\n",
    "    Resultados['Rendimiento %'] = [rnd_activos, rnd_rf, rnd_pfolio]\n",
    "    \n",
    "    return np.round(Resultados, 4)\n",
    "\n",
    "    inv_real, asignacion_rf, vfinal_activos, vfinal_rf, vfinal_pfolio, rnd_activos, rnd_rf, rnd_pfolio, cumrets = None"
   ]
  },
  {
   "cell_type": "code",
   "execution_count": 6,
   "id": "cbe605ab",
   "metadata": {},
   "outputs": [],
   "source": [
    "# Cambiar estilo de gráficos a seaborn\n",
    "matplotlib.style.use('seaborn')\n",
    "\n",
    "# Cambiar motor gráfico a PLOTLY\n",
    "pd.options.plotting.backend = \"plotly\""
   ]
  },
  {
   "cell_type": "code",
   "execution_count": 7,
   "id": "bf11807c",
   "metadata": {},
   "outputs": [],
   "source": [
    "# Función objetivo\n",
    "def varianza(w,Sigma):\n",
    "    return w.T.dot(Sigma).dot(w) "
   ]
  },
  {
   "cell_type": "code",
   "execution_count": 8,
   "id": "3208d6cb",
   "metadata": {},
   "outputs": [],
   "source": [
    "# Función objetivo\n",
    "def menos_RS(w,Eind,Sigma,rf):\n",
    "    Ep = Eind.T.dot(w)\n",
    "    sp = (w.T.dot(Sigma).dot(w))**.5\n",
    "    RS = (Ep-rf)/sp\n",
    "    return -RS"
   ]
  },
  {
   "cell_type": "code",
   "execution_count": 9,
   "id": "6b6339cb",
   "metadata": {},
   "outputs": [],
   "source": [
    "# Función Cambio Porcentual\n",
    "def pct_chng(VA: 'Valor Actual',\n",
    "             VI: 'Valor Inicial'):\n",
    "    \n",
    "    ret = np.round(((VA-VI)/VI), 2)\n",
    "    return ret"
   ]
  },
  {
   "cell_type": "code",
   "execution_count": null,
   "id": "0290b975",
   "metadata": {},
   "outputs": [],
   "source": [
    "IPC = pd.read_csv()"
   ]
  },
  {
   "cell_type": "code",
   "execution_count": null,
   "id": "13f5d13a",
   "metadata": {},
   "outputs": [],
   "source": []
  },
  {
   "cell_type": "code",
   "execution_count": null,
   "id": "bbfc8c12",
   "metadata": {},
   "outputs": [],
   "source": []
  },
  {
   "cell_type": "code",
   "execution_count": null,
   "id": "e7330ddc",
   "metadata": {},
   "outputs": [],
   "source": []
  },
  {
   "cell_type": "code",
   "execution_count": null,
   "id": "db9ff038",
   "metadata": {},
   "outputs": [],
   "source": []
  },
  {
   "cell_type": "code",
   "execution_count": null,
   "id": "d76d532d",
   "metadata": {},
   "outputs": [],
   "source": []
  },
  {
   "cell_type": "code",
   "execution_count": null,
   "id": "0d1e9196",
   "metadata": {},
   "outputs": [],
   "source": []
  },
  {
   "cell_type": "code",
   "execution_count": null,
   "id": "53f10c81",
   "metadata": {},
   "outputs": [],
   "source": []
  },
  {
   "cell_type": "code",
   "execution_count": null,
   "id": "7e4223ae",
   "metadata": {},
   "outputs": [],
   "source": []
  },
  {
   "cell_type": "code",
   "execution_count": null,
   "id": "74cd5afd",
   "metadata": {},
   "outputs": [],
   "source": []
  },
  {
   "cell_type": "code",
   "execution_count": null,
   "id": "b7da3a75",
   "metadata": {},
   "outputs": [],
   "source": []
  },
  {
   "cell_type": "code",
   "execution_count": null,
   "id": "8e037fc3",
   "metadata": {},
   "outputs": [],
   "source": []
  },
  {
   "cell_type": "code",
   "execution_count": null,
   "id": "7711fe9a",
   "metadata": {},
   "outputs": [],
   "source": []
  },
  {
   "cell_type": "code",
   "execution_count": null,
   "id": "6f4451f2",
   "metadata": {},
   "outputs": [],
   "source": []
  },
  {
   "cell_type": "code",
   "execution_count": null,
   "id": "56e70c8d",
   "metadata": {},
   "outputs": [],
   "source": []
  },
  {
   "cell_type": "code",
   "execution_count": null,
   "id": "232b3b4e",
   "metadata": {},
   "outputs": [],
   "source": []
  },
  {
   "cell_type": "code",
   "execution_count": null,
   "id": "122a7891",
   "metadata": {},
   "outputs": [],
   "source": []
  },
  {
   "cell_type": "code",
   "execution_count": null,
   "id": "fbc56a31",
   "metadata": {},
   "outputs": [],
   "source": []
  }
 ],
 "metadata": {
  "kernelspec": {
   "display_name": "Python 3",
   "language": "python",
   "name": "python3"
  },
  "language_info": {
   "codemirror_mode": {
    "name": "ipython",
    "version": 3
   },
   "file_extension": ".py",
   "mimetype": "text/x-python",
   "name": "python",
   "nbconvert_exporter": "python",
   "pygments_lexer": "ipython3",
   "version": "3.8.8"
  },
  "toc": {
   "base_numbering": 1,
   "nav_menu": {},
   "number_sections": false,
   "sideBar": true,
   "skip_h1_title": false,
   "title_cell": "Table of Contents",
   "title_sidebar": "Contents",
   "toc_cell": false,
   "toc_position": {},
   "toc_section_display": true,
   "toc_window_display": false
  }
 },
 "nbformat": 4,
 "nbformat_minor": 5
}
